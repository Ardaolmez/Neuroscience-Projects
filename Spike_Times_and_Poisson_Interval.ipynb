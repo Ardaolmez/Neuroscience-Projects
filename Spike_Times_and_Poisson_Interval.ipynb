{
  "cells": [
    {
      "cell_type": "markdown",
      "metadata": {
        "id": "view-in-github",
        "colab_type": "text"
      },
      "source": [
        "<a href=\"https://colab.research.google.com/github/Ardaolmez/Neuroscience-Projects/blob/main/Spike_Times_and_Poisson_Interval.ipynb\" target=\"_parent\"><img src=\"https://colab.research.google.com/assets/colab-badge.svg\" alt=\"Open In Colab\"/></a>"
      ]
    },
    {
      "cell_type": "markdown",
      "metadata": {
        "id": "d04SQ0Vaou7T"
      },
      "source": [
        "\n",
        "\n",
        "\n",
        "\n",
        "\n",
        "\n",
        "In Computational Neuroscience, spike trains are often described as realisations of Poisson or Gamma processes. In\n",
        "this exercise, we show how to generate realisations of such point processes in Python and how their statistics can be\n",
        "characterised.\n",
        "\n",
        "### 1. Poisson process (10 points + 3 optional points)\n",
        "### (a) Spike train generation (2 points + 1 optional point)\n",
        "Generate a realization (i.e., an array of spike times $[t_0, \\dots, t_k, \\dots]$) of a Poisson process (https://en.wikipedia.org/wiki/Poisson_process) with a spike rate of $\\nu=10$ spikes/s in the time interval $[0, T ), T=600$s, using the following two methods:\n",
        "   \n",
        "i.\\* (1 optional point) Randomly draw inter-spike intervals $X_i$ from an exponential distribution (https://en.wikipedia.org/wiki/Exponential_distribution) with the appropriate mean of the inter-spike interval, using `numpy.random.exponential`. The time of the $i$th spike is given by $t_i = t_{i−1} + X_i$. Assume $t_0=0$. Make sure that $t_i < T \\; \\forall i$.\n",
        "\n",
        "Hint: you can calculate the mean inter-spike interval $\\langle X_i \\rangle_i$ from the spike rate of the process.\n",
        "\n",
        "Hint: you can find information on `numpy`'s sampling methods here https://docs.scipy.org/doc/numpy/reference/routines.random.html and might want to use `numpy`'s cumulative sum function."
      ]
    },
    {
      "cell_type": "markdown",
      "metadata": {
        "id": "p4ZoJaOsou7V"
      },
      "source": [
        "> <span style=\"font-size:10pt\">\n",
        "Note the unit “spikes/s”. Alternatively, you may use “counts/s”, “impulses/s” (ips) or just “1/s”. In Neuroscience (also in Computational Neuroscience), it is unfortunately very common to use “Hz” as a unit of the firing rate. Although it is mathematically correct (Hz = 1/s), this doesn’t make much sense and is often misleading: First, the unit “Hz” honours the work of the physicists Heinrich Hertz on electromagnetic waves. Electromagnetic waves are periodic signals. Spike trains, in contrast, are typically highly irregular (non-periodic) signals. The unit “Hz” should be used as a unit of frequency for periodic signals only. Second, in Neuroscience often both (irregular) spike trains and periodic signals (e.g. Fourier components of local-field potentials, EEG, etc.) are considered at the same time. Using different units for the spike frequency and the oscillation frequency leads to a much more transparent presentation of research results. </span>"
      ]
    },
    {
      "cell_type": "code",
      "execution_count": null,
      "metadata": {
        "jupyter": {
          "outputs_hidden": false
        },
        "colab": {
          "base_uri": "https://localhost:8080/"
        },
        "id": "Z4GXrpElou7W",
        "outputId": "f5083475-4491-4e2c-dbeb-4d67379699e6"
      },
      "outputs": [
        {
          "output_type": "stream",
          "name": "stdout",
          "text": [
            "[  0.01933704   0.13138643   0.18516236 ... 599.22510121 599.28142787\n",
            " 599.62465508]\n"
          ]
        }
      ],
      "source": [
        "import numpy as np\n",
        "import matplotlib.pyplot as plt\n",
        "\n",
        "np.set_printoptions(suppress=True)\n",
        "\n",
        "def draw1(v,T):\n",
        "    ß=1/v\n",
        "    t=0\n",
        "    lst=[]\n",
        "    while t<T:\n",
        "\n",
        "        t=np.random.exponential(ß)+t\n",
        "        if t>T:\n",
        "            break\n",
        "        lst=np.append(lst,t)\n",
        "    return lst\n",
        "drawing1=draw1(10,600)\n",
        "print(drawing1)\n",
        "\n",
        "\n",
        "\n"
      ]
    },
    {
      "cell_type": "markdown",
      "metadata": {
        "id": "qOv4IrMCou7X"
      },
      "source": [
        "ii. (2 points) First, draw the total number $N$ of spikes from a Poisson distribution (https://en.wikipedia.org/wiki/Poisson_distribution) with appropriate mean ($\\sim$ rate of the process). Randomly draw $N$ spike times $\\{t_1, t_2, \\dots, t_N\\}$ from a uniform distribution in the interval $[0, T )$. Sort spike times in ascending order using `numpy.sort(...)` (see lecture slides “The Poisson point process - a recipe “)."
      ]
    },
    {
      "cell_type": "code",
      "execution_count": null,
      "metadata": {
        "jupyter": {
          "outputs_hidden": false
        },
        "colab": {
          "base_uri": "https://localhost:8080/",
          "height": 508
        },
        "id": "tOrWkHqCou7X",
        "outputId": "cd6fc95b-87ec-4e0a-c125-5352780f0483"
      },
      "outputs": [
        {
          "output_type": "stream",
          "name": "stdout",
          "text": [
            "[  0.03274489   0.09461423   0.09710558 ... 599.81373041 599.89415494\n",
            " 599.93087029]\n"
          ]
        },
        {
          "output_type": "display_data",
          "data": {
            "text/plain": [
              "<Figure size 640x480 with 1 Axes>"
            ],
            "image/png": "[encoded data removed]"
          },
          "metadata": {}
        }
      ],
      "source": [
        "# type your code here\n",
        "import numpy as np\n",
        "import matplotlib.pyplot as plt\n",
        "\n",
        "np.set_printoptions(suppress=True)\n",
        "\n",
        "def draw2(v,T):\n",
        "    N=v*T\n",
        "    lst=list(np.random.uniform(0,T,N))\n",
        "    lst=np.sort(lst)\n",
        "    return lst\n",
        "drawing2=draw2(10,600)\n",
        "print(drawing2)\n",
        "\n"
      ]
    },
    {
      "cell_type": "markdown",
      "metadata": {
        "tags": [],
        "id": "tkq_XvNlou7X"
      },
      "source": [
        "### (b) Spike-count statistics (4 points + 2 optional points)\n",
        "i. (2 points) For the spike train generated in __(a)__, compute the numbers $N_1^h, N_2^h, \\dots, N_{T/h}^h$ of spikes (spike counts) in consecutive, non-overlapping time intervals $[(k − 1)h, kh), k = 1, 2, \\dots, T/h$, of length $h=0.5$s (“bin size”) using `numpy.histogram`. Visualise the time series (e.g, using `matplotlib.pyplot.bar` or `pylab.bar`). Label your plot appropiately."
      ]
    },
    {
      "cell_type": "markdown",
      "metadata": {
        "id": "rZPP_BBGou7Y"
      },
      "source": [
        "> <span style=\"font-size:10pt\"> For more detailed information on plotting tools, see [the matplotlib homepage](http://matplotlib.org), in particular, [the gallery](http://matplotlib.org/gallery.html).</span>"
      ]
    },
    {
      "cell_type": "code",
      "execution_count": null,
      "metadata": {
        "jupyter": {
          "outputs_hidden": false
        },
        "colab": {
          "base_uri": "https://localhost:8080/",
          "height": 449
        },
        "id": "m76-aliZou7Y",
        "outputId": "defeaef0-1a5e-4e5b-e893-c912b061084a"
      },
      "outputs": [
        {
          "output_type": "display_data",
          "data": {
            "text/plain": [
              "<Figure size 640x480 with 1 Axes>"
            ],
            "image/png": "[encoded data removed]"
          },
          "metadata": {}
        }
      ],
      "source": [
        "import numpy as np\n",
        "import matplotlib.pyplot as plt\n",
        "\n",
        "np.set_printoptions(suppress=True)\n",
        "h=0.5\n",
        "\n",
        "bins=np.arange(0,600.5,h)\n",
        "\n",
        "x,y=np.histogram(drawing2,bins )\n",
        "\n",
        "\n",
        "\n",
        "plt.bar(y[:-1],x,color='green')\n",
        "plt.xlabel(\"range\")\n",
        "plt.ylabel(\"spike count\")\n",
        "plt.show()\n"
      ]
    },
    {
      "cell_type": "markdown",
      "metadata": {
        "id": "e51zcHXxou7Y"
      },
      "source": [
        "ii. (2 points) Calculate the mean, the variance and the Fano factor (https://en.wikipedia.org/wiki/Fano_factor) of the measured spike counts across time bins using `numpy`. Compare these numbers with the theoretical values (see lecture)."
      ]
    },
    {
      "cell_type": "code",
      "execution_count": null,
      "metadata": {
        "jupyter": {
          "outputs_hidden": false
        },
        "colab": {
          "base_uri": "https://localhost:8080/",
          "height": 72
        },
        "id": "PB8n-8rwou7Y",
        "outputId": "78f6c108-1bed-499c-d5cd-0cdb65808d65"
      },
      "outputs": [
        {
          "output_type": "stream",
          "name": "stdout",
          "text": [
            "5.0 4.95 0.99\n"
          ]
        },
        {
          "output_type": "execute_result",
          "data": {
            "text/plain": [
              "'\\nVariance,mean and fano numbers are similar with theoretical values.\\nMean and variance values are approximately 2=10*0,5=spikerate*binsize.Fano is approximately\\n1=mean/variance.\\n'"
            ],
            "application/vnd.google.colaboratory.intrinsic+json": {
              "type": "string"
            }
          },
          "metadata": {},
          "execution_count": 4
        }
      ],
      "source": [
        "# type your code here.\n",
        "import numpy as np\n",
        "import matplotlib.pyplot as plt\n",
        "\n",
        "np.set_printoptions(suppress=True)\n",
        "mean=np.mean(x)\n",
        "varianz=np.var(x)\n",
        "fano=varianz/mean\n",
        "print(mean,varianz,fano)\n",
        "'''\n",
        "Variance,mean and fano numbers are similar with theoretical values.\n",
        "Mean and variance values are approximately 2=10*0,5=spikerate*binsize.Fano is approximately\n",
        "1=mean/variance.\n",
        "'''"
      ]
    },
    {
      "cell_type": "markdown",
      "metadata": {
        "id": "NrIvj8ctou7Y"
      },
      "source": [
        "iii.\\* (2 optional points) Compute the Fano factor for a range of bin sizes $h$ (say, $h \\in \\{10, 100, 1000, 10000\\}$ ms). Visualise the dependence of the Fano factor on the bin size $h$."
      ]
    },
    {
      "cell_type": "code",
      "execution_count": null,
      "metadata": {
        "jupyter": {
          "outputs_hidden": false
        },
        "colab": {
          "base_uri": "https://localhost:8080/"
        },
        "id": "ZEAAvXVHou7Z",
        "outputId": "fab3a5a8-650b-4c7e-8979-9263ef363c20"
      },
      "outputs": [
        {
          "output_type": "stream",
          "name": "stdout",
          "text": [
            "1 9.996661101836393 9.485798534563727 0.948896680394735\n",
            "10 100.0677966101695 80.94455616202241 0.8088971567681779\n",
            "100 1004.8 186.15999999999994 0.18527070063694262\n",
            "599 5988.0 0.0 0.0\n"
          ]
        }
      ],
      "source": [
        "# type your code here.\n",
        "import numpy as np\n",
        "import matplotlib.pyplot as plt\n",
        "\n",
        "np.set_printoptions(suppress=True)\n",
        "\n",
        "bin=[1,10,100,599]\n",
        "for t in bin:\n",
        "    bins=np.arange(0,600,t)\n",
        "    x,y=np.histogram(drawing2,bins)\n",
        "    mean=np.mean(x)\n",
        "    varianz=np.var(x)\n",
        "    fano=varianz/mean\n",
        "    print(t,mean,varianz,fano)\n"
      ]
    },
    {
      "cell_type": "markdown",
      "metadata": {
        "id": "G43ami_fou7Z"
      },
      "source": [
        "### c) Interval statistics (4 points)\n",
        "i. (2 points) Measure the inter-spike intervals (ISIs) of the spike train generated in __(a)__ (e.g., using `numpy.diff`) and construct an estimate of the ISI density function (`numpy.histogram`, take care of appropiate normalization). Visualise the result and compare it with the theoretical ISI density (i.e., the density you used to generate the spike train)."
      ]
    },
    {
      "cell_type": "code",
      "execution_count": null,
      "metadata": {
        "jupyter": {
          "outputs_hidden": false
        },
        "colab": {
          "base_uri": "https://localhost:8080/",
          "height": 504
        },
        "id": "NeCInaXwou7Z",
        "outputId": "6bf98027-5f55-4687-a9bb-7a835c1b9d1a"
      },
      "outputs": [
        {
          "output_type": "stream",
          "name": "stdout",
          "text": [
            "[0.03066156 0.07690667 0.08400167 ... 0.07214638 0.01629976 0.03954265]\n"
          ]
        },
        {
          "output_type": "display_data",
          "data": {
            "text/plain": [
              "<Figure size 640x480 with 1 Axes>"
            ],
            "image/png": "[encoded data removed]"
          },
          "metadata": {}
        },
        {
          "output_type": "execute_result",
          "data": {
            "text/plain": [
              "'density \\nThere are similar but in our ISIs model we have also spikes just after previous spike.\\nOtherwise they seem like exp(-x) function.\\n'"
            ],
            "application/vnd.google.colaboratory.intrinsic+json": {
              "type": "string"
            }
          },
          "metadata": {},
          "execution_count": 6
        }
      ],
      "source": [
        "# type your code here.\n",
        "import numpy as np\n",
        "import matplotlib.pyplot as plt\n",
        "\n",
        "np.set_printoptions(suppress=True)\n",
        "\n",
        "diff=np.diff(drawing2)\n",
        "print(diff)\n",
        "\n",
        "\n",
        "bs=np.arange(0,0.8,0.05)\n",
        "\n",
        "interval,range=np.histogram(diff,bs,density=True)\n",
        "plt.bar(range[:-1],interval,width=0.04,color='black')\n",
        "plt.xlabel(\"range\")\n",
        "plt.ylabel(\"difference count\")\n",
        "plt.plot(range[:-1],interval,color='c')\n",
        "plt.show()\n",
        "'''density\n",
        "There are similar but in our ISIs model we have also spikes just after previous spike.\n",
        "Otherwise they seem like exp(-x) function.\n",
        "'''"
      ]
    },
    {
      "cell_type": "markdown",
      "metadata": {
        "id": "VqsL-OIUou7Z"
      },
      "source": [
        "ii. (2 points) Compute the mean, the standard deviation and the coefficient of variation (CV) of the ISIs using `numpy`. Compare the numbers with the theoretical values (see lecture)."
      ]
    },
    {
      "cell_type": "code",
      "execution_count": null,
      "metadata": {
        "jupyter": {
          "outputs_hidden": false
        },
        "colab": {
          "base_uri": "https://localhost:8080/",
          "height": 72
        },
        "id": "uLm8VDtKou7Z",
        "outputId": "fb668abe-4aa3-4947-ef5a-e27510e2e9e4"
      },
      "outputs": [
        {
          "output_type": "stream",
          "name": "stdout",
          "text": [
            "4.721741655754593 1.333333333333333 1.629717669218187\n"
          ]
        },
        {
          "output_type": "execute_result",
          "data": {
            "text/plain": [
              "'\\nCause we have spikes just after previous spike, variance is a  higher than \\ntheoretical value.In lecture,variance/mean ratio is approximately 4/3. In our experiment\\nthe ratio is approximately 4.\\n'"
            ],
            "application/vnd.google.colaboratory.intrinsic+json": {
              "type": "string"
            }
          },
          "metadata": {},
          "execution_count": 7
        }
      ],
      "source": [
        "# type your code here.\n",
        "import numpy as np\n",
        "import matplotlib.pyplot as plt\n",
        "\n",
        "np.set_printoptions(suppress=True)\n",
        "mean1=np.mean(interval)\n",
        "var1=np.var(interval)\n",
        "var2=var1**(1/2)\n",
        "cv=var2/mean1\n",
        "print(var1,mean1,cv)\n",
        "'''\n",
        "Cause we have spikes just after previous spike, variance is a  higher than\n",
        "theoretical value.In lecture,variance/mean ratio is approximately 4/3. In our experiment\n",
        "the ratio is approximately 4.\n",
        "'''\n"
      ]
    },
    {
      "cell_type": "markdown",
      "metadata": {
        "id": "_reS0TObou7a"
      },
      "source": [
        "### 2.\\* Gamma process (3 optional points)\n",
        "### (a) Spike-train generation (1 optional point)\n",
        "\n",
        "A realisation of a Gamma process (https://en.wikipedia.org/wiki/Gamma_process) of integer order $\\gamma \\in \\mathbb{N}_{\\backslash\\{0\\}}$ can be generated from a realisation of a Poisson process by picking only each $\\gamma$th spike (“decimation method”). Generate a realisation of a Gamma process with rate $\\nu=10$ spikes/s and order $\\gamma=2$.\n",
        "\n",
        "Hint: Note that the decimation procedure reduces the firing rate and adjust for this accordingly."
      ]
    },
    {
      "cell_type": "code",
      "execution_count": null,
      "metadata": {
        "jupyter": {
          "outputs_hidden": false
        },
        "colab": {
          "base_uri": "https://localhost:8080/"
        },
        "id": "hLhfVA-nou7a",
        "outputId": "40868e78-0236-42e5-a41a-1bb88ffef02f"
      },
      "outputs": [
        {
          "output_type": "stream",
          "name": "stdout",
          "text": [
            "[  0.25921583   0.36912612   0.61225683 ... 599.49203649 599.55426952\n",
            " 599.60962892]\n"
          ]
        }
      ],
      "source": [
        "\n",
        "# type your code here.\n",
        "import numpy as np\n",
        "import matplotlib.pyplot as plt\n",
        "\n",
        "\n",
        "\n",
        "np.set_printoptions(suppress=True)\n",
        "\n",
        "def draw3(v,ß,T):\n",
        "    N=v*T\n",
        "    lst=list(np.random.uniform(0,T,N))\n",
        "    lst=np.sort(lst)\n",
        "    lst=lst[::ß]\n",
        "    return lst\n",
        "drawing3=draw3(10,2,600)\n",
        "print(drawing3)"
      ]
    },
    {
      "cell_type": "markdown",
      "metadata": {
        "id": "uYaMlNghou7a"
      },
      "source": [
        "### (b) Spike-count statistics (1 optional point)\n",
        "\n",
        "See 1(b).\n",
        "\n",
        "Hint: For a Gamma process of rate $\\nu$ and order $\\gamma = 2$, the spike-count variance is given by\n",
        "$$ \\frac{\\nu h}{2}+\\frac{1-e^{-4\\nu h}}{8}$$\n",
        "(see Gabbiani & Koch, 1998, Principles of spike-train analysis)."
      ]
    },
    {
      "cell_type": "code",
      "execution_count": null,
      "metadata": {
        "jupyter": {
          "outputs_hidden": false
        },
        "colab": {
          "base_uri": "https://localhost:8080/",
          "height": 486
        },
        "id": "Bkdv5wq2ou7a",
        "outputId": "cc44d29f-166b-417d-a458-45e2aa01148d"
      },
      "outputs": [
        {
          "output_type": "display_data",
          "data": {
            "text/plain": [
              "<Figure size 640x480 with 1 Axes>"
            ],
            "image/png": "[encoded data removed]"
          },
          "metadata": {}
        },
        {
          "output_type": "stream",
          "name": "stdout",
          "text": [
            "2.5 1.2883333333333333 0.5153333333333333\n"
          ]
        },
        {
          "output_type": "execute_result",
          "data": {
            "text/plain": [
              "'\\n\\n'"
            ],
            "application/vnd.google.colaboratory.intrinsic+json": {
              "type": "string"
            }
          },
          "metadata": {},
          "execution_count": 9
        }
      ],
      "source": [
        "# type your code here.\n",
        "import numpy as np\n",
        "import matplotlib.pyplot as plt\n",
        "\n",
        "np.set_printoptions(suppress=True)\n",
        "h=0.5\n",
        "\n",
        "bins=np.arange(0,600.5,h)\n",
        "\n",
        "x1,y1=np.histogram(drawing3,bins )\n",
        "\n",
        "\n",
        "\n",
        "plt.bar(y1[:-1],x1,color='green')\n",
        "plt.xlabel(\"range\")\n",
        "plt.ylabel(\"spike count\")\n",
        "plt.show()\n",
        "\n",
        "mean_gamma=np.mean(x1)\n",
        "varianz_gamma=np.var(x1)\n",
        "fano_gamma=varianz_gamma/mean_gamma\n",
        "print(mean_gamma,varianz_gamma,fano_gamma)\n",
        "'''\n",
        "\n",
        "'''"
      ]
    },
    {
      "cell_type": "markdown",
      "metadata": {
        "id": "z18raui8ou7a"
      },
      "source": [
        "### 3.\\* Poisson process with refractoriness (1 optional point)\n",
        "Generate a realisation of a Poisson process with absolute refractory period $\\tau_R$, i.e., a process with ISI density\n",
        "$$ f(x) =\n",
        "   \\begin{cases}\n",
        "     \\tilde{\\nu}e^{-\\tilde{\\nu}{}x} & x\\ge\\tau_\\text{R}\\\\\n",
        "     0 & \\text{else}.\n",
        "   \\end{cases}\n",
        "$$\n",
        "Hint: The process results from an ordinary Poisson process with ISIs $\\tilde{X}_i$ and rate $\\tilde{\\nu}$ by adding the refractory\n",
        "period to the inter-spike intervals, i.e., $X_i=\\tilde{X}_i+\\tau_R (\\forall i)$.  \n",
        "Note that the rate of the new process is reduced to\n",
        "$$ \\nu = \\left[\\frac{1}{\\tilde{\\nu}}+\\tau_\\text{R}\\right]^{-1}$$\n",
        "and adjust for this accordingly."
      ]
    },
    {
      "cell_type": "code",
      "execution_count": null,
      "metadata": {
        "jupyter": {
          "outputs_hidden": false
        },
        "colab": {
          "base_uri": "https://localhost:8080/",
          "height": 799
        },
        "id": "vqt4ovqLou7b",
        "outputId": "6bbb68c7-b7e9-4bc6-bfa7-54ebc8fb75aa"
      },
      "outputs": [
        {
          "output_type": "stream",
          "name": "stdout",
          "text": [
            "[  5.67100936   8.49344305   8.72603062  13.10135677  17.7693695\n",
            "  21.48033316  27.06747992  47.21421051  48.75554726  52.28448919\n",
            "  83.63778355  85.29782698  93.89185658 105.52611694 109.14653974\n",
            " 117.03491852 120.23628147 129.76951671 134.56797932 139.90508511\n",
            " 162.25639738 169.80443853 170.89113123 176.21218481 177.78370334\n",
            " 182.62568259 186.22073925 194.70384272 195.10076564 195.57311815\n",
            " 199.70046032 217.08779733 220.72777728 223.73737996 226.49376453\n",
            " 229.16786324 238.13455784 245.08200388 249.6363683  251.82808773\n",
            " 261.21133663 267.79742076 268.92635566 283.21572643 286.52817188\n",
            " 287.85882026 289.90434102 303.25588212 308.81563634 319.65056165\n",
            " 324.61901472 326.46750895 327.70480241 329.80711207 330.13605993\n",
            " 356.99872465 357.12338174 378.03147024 381.56788431 394.49130517\n",
            " 398.67931565 444.89092883 454.70168665 455.52757891 457.18972927\n",
            " 459.38687336 461.62683627 473.34560573 478.30404943 488.73989621\n",
            " 489.74887526 502.88740652 521.23222879 524.93734605 527.29673398\n",
            " 532.58203886 537.94680339 539.13094484 546.22321945 546.58693543\n",
            " 548.75629072 550.74142255 551.8846387  563.41401384 570.22276248\n",
            " 571.52062261 589.08009263 590.44409886]\n"
          ]
        },
        {
          "output_type": "display_data",
          "data": {
            "text/plain": [
              "<Figure size 640x480 with 1 Axes>"
            ],
            "image/png": "[encoded data removed]"
          },
          "metadata": {}
        }
      ],
      "source": [
        "# type your code here.\n",
        "import numpy as np\n",
        "import matplotlib.pyplot as plt\n",
        "\n",
        "np.set_printoptions(suppress=True)\n",
        "\n",
        "def draw4(v,r,T):\n",
        "    ß= v / (np.exp(v * r) - 1)\n",
        "    t=0\n",
        "    lst=[]\n",
        "    while t<T:\n",
        "\n",
        "        t=np.random.exponential(ß)+t+r\n",
        "        if t>T:\n",
        "            break\n",
        "        lst=np.append(lst,t)\n",
        "    return lst\n",
        "spike_times=draw4(10,0.1,600)\n",
        "print(spike_times)\n",
        "plt.eventplot(spike_times)\n",
        "plt.xlabel('Time')\n",
        "plt.ylabel('Spike')\n",
        "plt.title('Poisson process with refractory period')\n",
        "plt.show()\n",
        "\n"
      ]
    }
  ],
  "metadata": {
    "kernelspec": {
      "display_name": "Python 3 (ipykernel)",
      "language": "python",
      "name": "python3"
    },
    "language_info": {
      "codemirror_mode": {
        "name": "ipython",
        "version": 3
      },
      "file_extension": ".py",
      "mimetype": "text/x-python",
      "name": "python",
      "nbconvert_exporter": "python",
      "pygments_lexer": "ipython3",
      "version": "3.9.6"
    },
    "colab": {
      "provenance": [],
      "include_colab_link": true
    }
  },
  "nbformat": 4,
  "nbformat_minor": 0
}