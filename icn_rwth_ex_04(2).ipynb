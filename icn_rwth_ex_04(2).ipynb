{
 "cells": [
  {
   "cell_type": "markdown",
   "metadata": {},
   "source": [
    "# Exercises: Point processes in Python\n",
    "\n",
    "<span style=\"color:red\">Note: Exercises marked with an asterisk (\" * \") are optional, i.e., not mandatory.</span>\n",
    "\n",
    "In Computational Neuroscience, spike trains are often described as realisations of Poisson or Gamma processes. In\n",
    "this exercise, we show how to generate realisations of such point processes in Python and how their statistics can be\n",
    "characterised.\n",
    "\n",
    "### 1. Poisson process (10 points + 3 optional points)\n",
    "### (a) Spike train generation (2 points + 1 optional point)\n",
    "Generate a realization (i.e., an array of spike times $[t_0, \\dots, t_k, \\dots]$) of a Poisson process (https://en.wikipedia.org/wiki/Poisson_process) with a spike rate of $\\nu=10$ spikes/s in the time interval $[0, T ), T=600$s, using the following two methods:\n",
    "   \n",
    "i.\\* (1 optional point) Randomly draw inter-spike intervals $X_i$ from an exponential distribution (https://en.wikipedia.org/wiki/Exponential_distribution) with the appropriate mean of the inter-spike interval, using `numpy.random.exponential`. The time of the $i$th spike is given by $t_i = t_{i−1} + X_i$. Assume $t_0=0$. Make sure that $t_i < T \\; \\forall i$.\n",
    "\n",
    "Hint: you can calculate the mean inter-spike interval $\\langle X_i \\rangle_i$ from the spike rate of the process.\n",
    "\n",
    "Hint: you can find information on `numpy`'s sampling methods here https://docs.scipy.org/doc/numpy/reference/routines.random.html and might want to use `numpy`'s cumulative sum function."
   ]
  },
  {
   "cell_type": "markdown",
   "metadata": {},
   "source": [
    "> <span style=\"font-size:10pt\">\n",
    "Note the unit “spikes/s”. Alternatively, you may use “counts/s”, “impulses/s” (ips) or just “1/s”. In Neuroscience (also in Computational Neuroscience), it is unfortunately very common to use “Hz” as a unit of the firing rate. Although it is mathematically correct (Hz = 1/s), this doesn’t make much sense and is often misleading: First, the unit “Hz” honours the work of the physicists Heinrich Hertz on electromagnetic waves. Electromagnetic waves are periodic signals. Spike trains, in contrast, are typically highly irregular (non-periodic) signals. The unit “Hz” should be used as a unit of frequency for periodic signals only. Second, in Neuroscience often both (irregular) spike trains and periodic signals (e.g. Fourier components of local-field potentials, EEG, etc.) are considered at the same time. Using different units for the spike frequency and the oscillation frequency leads to a much more transparent presentation of research results. </span>"
   ]
  },
  {
   "cell_type": "code",
   "execution_count": 1,
   "metadata": {
    "collapsed": false,
    "jupyter": {
     "outputs_hidden": false
    }
   },
   "outputs": [],
   "source": [
    "import numpy as np\n",
    "import matplotlib.pyplot as plt\n",
    "\n",
    "np.set_printoptions(suppress=True)\n",
    "\n",
    "def draw1(v,T):\n",
    "    ß=1/v\n",
    "    t=0\n",
    "    lst=[]\n",
    "    while t<T:\n",
    "      \n",
    "        t=np.random.exponential(ß)+t\n",
    "        if t>T:\n",
    "            break\n",
    "        lst=np.append(lst,t)\n",
    "    return lst\n",
    "drawing1=draw1(10,600)     \n",
    "print(drawing1)\n",
    "\n"
   ]
  },
  {
   "cell_type": "markdown",
   "metadata": {},
   "source": [
    "ii. (2 points) First, draw the total number $N$ of spikes from a Poisson distribution (https://en.wikipedia.org/wiki/Poisson_distribution) with appropriate mean ($\\sim$ rate of the process). Randomly draw $N$ spike times $\\{t_1, t_2, \\dots, t_N\\}$ from a uniform distribution in the interval $[0, T )$. Sort spike times in ascending order using `numpy.sort(...)` (see lecture slides “The Poisson point process - a recipe “)."
   ]
  },
  {
   "cell_type": "code",
   "execution_count": null,
   "metadata": {
    "collapsed": false,
    "jupyter": {
     "outputs_hidden": false
    }
   },
   "outputs": [],
   "source": [
    "# type your code here\n",
    "import numpy as np\n",
    "import matplotlib.pyplot as plt\n",
    "\n",
    "np.set_printoptions(suppress=True)\n",
    "\n",
    "def draw2(v,T):\n",
    "    N=v*T\n",
    "    lst=list(np.random.uniform(0,T,N))\n",
    "    lst=np.sort(lst)\n",
    "    return lst  \n",
    "drawing2=draw2(10,600)\n",
    "print(drawing2)"
   ]
  },
  {
   "cell_type": "markdown",
   "metadata": {
    "tags": []
   },
   "source": [
    "### (b) Spike-count statistics (4 points + 2 optional points)\n",
    "i. (2 points) For the spike train generated in __(a)__, compute the numbers $N_1^h, N_2^h, \\dots, N_{T/h}^h$ of spikes (spike counts) in consecutive, non-overlapping time intervals $[(k − 1)h, kh), k = 1, 2, \\dots, T/h$, of length $h=0.5$s (“bin size”) using `numpy.histogram`. Visualise the time series (e.g, using `matplotlib.pyplot.bar` or `pylab.bar`). Label your plot appropiately."
   ]
  },
  {
   "cell_type": "markdown",
   "metadata": {},
   "source": [
    "> <span style=\"font-size:10pt\"> For more detailed information on plotting tools, see [the matplotlib homepage](http://matplotlib.org), in particular, [the gallery](http://matplotlib.org/gallery.html).</span>"
   ]
  },
  {
   "cell_type": "code",
   "execution_count": null,
   "metadata": {
    "collapsed": false,
    "jupyter": {
     "outputs_hidden": false
    }
   },
   "outputs": [],
   "source": [
    "import numpy as np\n",
    "import matplotlib.pyplot as plt\n",
    "\n",
    "np.set_printoptions(suppress=True)\n",
    "h=0.5\n",
    "\n",
    "bins=np.arange(0,600.5,h)\n",
    "\n",
    "x,y=np.histogram(drawing2,bins )\n",
    "\n",
    "\n",
    "\n",
    "plt.bar(y[:-1],x,color='green')\n",
    "plt.xlabel(\"range\")\n",
    "plt.ylabel(\"spike count\")\n",
    "plt.show()\n"
   ]
  },
  {
   "cell_type": "markdown",
   "metadata": {},
   "source": [
    "ii. (2 points) Calculate the mean, the variance and the Fano factor (https://en.wikipedia.org/wiki/Fano_factor) of the measured spike counts across time bins using `numpy`. Compare these numbers with the theoretical values (see lecture)."
   ]
  },
  {
   "cell_type": "code",
   "execution_count": null,
   "metadata": {
    "collapsed": false,
    "jupyter": {
     "outputs_hidden": false
    }
   },
   "outputs": [],
   "source": [
    "# type your code here.\n",
    "import numpy as np\n",
    "import matplotlib.pyplot as plt\n",
    "\n",
    "np.set_printoptions(suppress=True)\n",
    "mean=np.mean(x)\n",
    "varianz=np.var(x)\n",
    "fano=varianz/mean\n",
    "print(mean,varianz,fano)\n",
    "'''\n",
    "Variance,mean and fano numbers are similar with theoretical values.\n",
    "Mean and variance values are approximately 2=10*0,5=spikerate*binsize.Fano is approximately\n",
    "1=mean/variance.\n",
    "'''"
   ]
  },
  {
   "cell_type": "markdown",
   "metadata": {},
   "source": [
    "iii.\\* (2 optional points) Compute the Fano factor for a range of bin sizes $h$ (say, $h \\in \\{10, 100, 1000, 10000\\}$ ms). Visualise the dependence of the Fano factor on the bin size $h$."
   ]
  },
  {
   "cell_type": "code",
   "execution_count": null,
   "metadata": {
    "collapsed": false,
    "jupyter": {
     "outputs_hidden": false
    }
   },
   "outputs": [],
   "source": [
    "# type your code here.\n",
    "import numpy as np\n",
    "import matplotlib.pyplot as plt\n",
    "\n",
    "np.set_printoptions(suppress=True)\n",
    "\n",
    "bin=[1,10,100,599]\n",
    "for t in bin:\n",
    "    bins=np.arange(0,600,t)\n",
    "    x,y=np.histogram(drawing2,bins)\n",
    "    mean=np.mean(x)\n",
    "    varianz=np.var(x)\n",
    "    fano=varianz/mean\n",
    "    print(t,mean,varianz,fano)\n",
    "    "
   ]
  },
  {
   "cell_type": "markdown",
   "metadata": {},
   "source": [
    "### c) Interval statistics (4 points)\n",
    "i. (2 points) Measure the inter-spike intervals (ISIs) of the spike train generated in __(a)__ (e.g., using `numpy.diff`) and construct an estimate of the ISI density function (`numpy.histogram`, take care of appropiate normalization). Visualise the result and compare it with the theoretical ISI density (i.e., the density you used to generate the spike train)."
   ]
  },
  {
   "cell_type": "code",
   "execution_count": null,
   "metadata": {
    "collapsed": false,
    "jupyter": {
     "outputs_hidden": false
    }
   },
   "outputs": [],
   "source": [
    "# type your code here.\n",
    "import numpy as np\n",
    "import matplotlib.pyplot as plt\n",
    "\n",
    "np.set_printoptions(suppress=True)\n",
    "\n",
    "diff=np.diff(drawing2)\n",
    "print(diff)\n",
    "\n",
    "\n",
    "bs=np.arange(0,0.8,0.05)\n",
    "\n",
    "interval,range=np.histogram(diff,bs,density=True)\n",
    "plt.bar(range[:-1],interval,width=0.04,color='black')\n",
    "plt.xlabel(\"range\")\n",
    "plt.ylabel(\"difference count\")\n",
    "plt.plot(range[:-1],interval,color='c')\n",
    "plt.show()\n",
    "'''density \n",
    "There are similar but in our ISIs model we have also spikes just after previous spike.\n",
    "Otherwise they seem like exp(-x) function.\n",
    "'''"
   ]
  },
  {
   "cell_type": "markdown",
   "metadata": {},
   "source": [
    "ii. (2 points) Compute the mean, the standard deviation and the coefficient of variation (CV) of the ISIs using `numpy`. Compare the numbers with the theoretical values (see lecture)."
   ]
  },
  {
   "cell_type": "code",
   "execution_count": null,
   "metadata": {
    "collapsed": false,
    "jupyter": {
     "outputs_hidden": false
    }
   },
   "outputs": [],
   "source": [
    "# type your code here.\n",
    "import numpy as np\n",
    "import matplotlib.pyplot as plt\n",
    "\n",
    "np.set_printoptions(suppress=True)\n",
    "mean1=np.mean(interval)\n",
    "var1=np.var(interval)\n",
    "var2=var1**(1/2)\n",
    "cv=var2/mean1\n",
    "print(var1,mean1,cv)\n",
    "'''\n",
    "Cause we have spikes just after previous spike, variance is a  higher than \n",
    "theoretical value.In lecture,variance/mean ratio is approximately 4/3. In our experiment\n",
    "the ratio is approximately 4.\n",
    "'''\n"
   ]
  },
  {
   "cell_type": "markdown",
   "metadata": {},
   "source": [
    "### 2.\\* Gamma process (3 optional points)\n",
    "### (a) Spike-train generation (1 optional point)\n",
    "\n",
    "A realisation of a Gamma process (https://en.wikipedia.org/wiki/Gamma_process) of integer order $\\gamma \\in \\mathbb{N}_{\\backslash\\{0\\}}$ can be generated from a realisation of a Poisson process by picking only each $\\gamma$th spike (“decimation method”). Generate a realisation of a Gamma process with rate $\\nu=10$ spikes/s and order $\\gamma=2$.\n",
    "\n",
    "Hint: Note that the decimation procedure reduces the firing rate and adjust for this accordingly."
   ]
  },
  {
   "cell_type": "code",
   "execution_count": null,
   "metadata": {
    "collapsed": false,
    "jupyter": {
     "outputs_hidden": false
    }
   },
   "outputs": [],
   "source": [
    "\n",
    "# type your code here.\n",
    "import numpy as np\n",
    "import matplotlib.pyplot as plt\n",
    "\n",
    "\n",
    "\n",
    "np.set_printoptions(suppress=True)\n",
    "\n",
    "def draw3(v,ß,T):\n",
    "    N=v*T\n",
    "    lst=list(np.random.uniform(0,T,N))\n",
    "    lst=np.sort(lst)\n",
    "    lst=lst[::ß]\n",
    "    return lst  \n",
    "drawing3=draw3(10,2,600)\n",
    "print(drawing3)"
   ]
  },
  {
   "cell_type": "markdown",
   "metadata": {},
   "source": [
    "### (b) Spike-count statistics (1 optional point)\n",
    "\n",
    "See 1(b).\n",
    "\n",
    "Hint: For a Gamma process of rate $\\nu$ and order $\\gamma = 2$, the spike-count variance is given by\n",
    "$$ \\frac{\\nu h}{2}+\\frac{1-e^{-4\\nu h}}{8}$$\n",
    "(see Gabbiani & Koch, 1998, Principles of spike-train analysis)."
   ]
  },
  {
   "cell_type": "code",
   "execution_count": null,
   "metadata": {
    "collapsed": false,
    "jupyter": {
     "outputs_hidden": false
    }
   },
   "outputs": [],
   "source": [
    "# type your code here.\n",
    "import numpy as np\n",
    "import matplotlib.pyplot as plt\n",
    "\n",
    "np.set_printoptions(suppress=True)\n",
    "h=0.5\n",
    "\n",
    "bins=np.arange(0,600.5,h)\n",
    "\n",
    "x1,y1=np.histogram(drawing3,bins )\n",
    "\n",
    "\n",
    "\n",
    "plt.bar(y1[:-1],x1,color='green')\n",
    "plt.xlabel(\"range\")\n",
    "plt.ylabel(\"spike count\")\n",
    "plt.show()\n",
    "\n",
    "mean_gamma=np.mean(x1)\n",
    "varianz_gamma=np.var(x1)\n",
    "fano_gamma=varianz_gamma/mean_gamma\n",
    "print(mean_gamma,varianz_gamma,fano_gamma)\n",
    "'''\n",
    "\n",
    "'''"
   ]
  },
  {
   "cell_type": "markdown",
   "metadata": {},
   "source": [
    "### (c) Interval statistics (1 optional point)\n",
    "\n",
    "See 1(c).\n",
    "\n",
    "Hint: To compute the factorial (needed for comparison with the theoretical ISI density), use `scipy.math.factorial`."
   ]
  },
  {
   "cell_type": "code",
   "execution_count": null,
   "metadata": {
    "collapsed": false,
    "jupyter": {
     "outputs_hidden": false
    }
   },
   "outputs": [],
   "source": [
    "# type your code here."
   ]
  },
  {
   "cell_type": "markdown",
   "metadata": {},
   "source": [
    "### 3.\\* Poisson process with refractoriness (1 optional point)\n",
    "Generate a realisation of a Poisson process with absolute refractory period $\\tau_R$, i.e., a process with ISI density\n",
    "$$ f(x) =\n",
    "   \\begin{cases}\n",
    "     \\tilde{\\nu}e^{-\\tilde{\\nu}{}x} & x\\ge\\tau_\\text{R}\\\\\n",
    "     0 & \\text{else}.\n",
    "   \\end{cases}\n",
    "$$\n",
    "Hint: The process results from an ordinary Poisson process with ISIs $\\tilde{X}_i$ and rate $\\tilde{\\nu}$ by adding the refractory\n",
    "period to the inter-spike intervals, i.e., $X_i=\\tilde{X}_i+\\tau_R (\\forall i)$.  \n",
    "Note that the rate of the new process is reduced to\n",
    "$$ \\nu = \\left[\\frac{1}{\\tilde{\\nu}}+\\tau_\\text{R}\\right]^{-1}$$\n",
    "and adjust for this accordingly."
   ]
  },
  {
   "cell_type": "code",
   "execution_count": null,
   "metadata": {
    "collapsed": false,
    "jupyter": {
     "outputs_hidden": false
    }
   },
   "outputs": [],
   "source": [
    "# type your code here.\n",
    "import numpy as np\n",
    "import matplotlib.pyplot as plt\n",
    "\n",
    "np.set_printoptions(suppress=True)\n",
    "\n",
    "def draw4(v,r,T):\n",
    "    ß=-v/(r*v-1)##duzeltecen\n",
    "    t=0\n",
    "    lst=[]\n",
    "    while t<T:\n",
    "      \n",
    "        t=np.random.exponential(ß)+t+r\n",
    "        if t>T:\n",
    "            break\n",
    "        lst=np.append(lst,t)\n",
    "    return lst\n",
    "drawing4=draw4(10,0.1,600)     \n",
    "print(drawing4)\n"
   ]
  }
 ],
 "metadata": {
  "kernelspec": {
   "display_name": "Python 3 (ipykernel)",
   "language": "python",
   "name": "python3"
  },
  "language_info": {
   "codemirror_mode": {
    "name": "ipython",
    "version": 3
   },
   "file_extension": ".py",
   "mimetype": "text/x-python",
   "name": "python",
   "nbconvert_exporter": "python",
   "pygments_lexer": "ipython3",
   "version": "3.9.6"
  }
 },
 "nbformat": 4,
 "nbformat_minor": 4
}
